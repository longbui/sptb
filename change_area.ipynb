{
 "cells": [
  {
   "cell_type": "code",
   "execution_count": 2,
   "metadata": {},
   "outputs": [],
   "source": [
    "import geopandas as gpd\n",
    "import matplotlib.pyplot as plt\n",
    "import matplotlib.ticker as ticker\n",
    "import matplotlib.image as image\n",
    "import seaborn as sns\n",
    "import pandas as pd\n",
    "from mpl_toolkits.axes_grid1.inset_locator import inset_axes\n",
    "from matplotlib.lines import Line2D\n",
    "from matplotlib.patches import Patch\n",
    "from matplotlib.offsetbox import OffsetImage, AnnotationBbox\n",
    "from shapely.ops import unary_union\n",
    "\n",
    "\n",
    "sns.set_style(\"whitegrid\")"
   ]
  },
  {
   "cell_type": "code",
   "execution_count": 3,
   "metadata": {},
   "outputs": [],
   "source": [
    "cpath = 'data/map/namdinh/NamDinh_Xa.shp'\n",
    "cmnd = gpd.read_file(cpath)"
   ]
  },
  {
   "cell_type": "markdown",
   "metadata": {},
   "source": [
    "## Merging some area"
   ]
  },
  {
   "cell_type": "code",
   "execution_count": 4,
   "metadata": {},
   "outputs": [],
   "source": [
    "# Copy the row for \"Nghĩa Thắng\"\n",
    "nghia_thang_row = cmnd[cmnd[\"diaDanh\"] == \"Nghĩa Thắng\"].copy().iloc[0]\n",
    "nghia_phuc_geom = cmnd[cmnd[\"diaDanh\"] == \"Nghĩa Phúc\"].geometry.iloc[0]\n",
    "\n",
    "# Merge the geometries\n",
    "merged_geom = unary_union([nghia_thang_row.geometry, nghia_phuc_geom])\n",
    "\n",
    "# Prepare a new row as a dictionary, skipping 'NAME_3' and 'geometry'\n",
    "new_row_data = {\n",
    "    column: nghia_thang_row[column]\n",
    "    for column in nghia_thang_row.index\n",
    "    if column not in [\"diaDanh\", \"geometry\"]\n",
    "}\n",
    "\n",
    "# Add the updated 'NAME_3' and 'geometry'\n",
    "new_row_data[\"diaDanh\"] = \"Phúc Thắng\"\n",
    "new_row_data[\"geometry\"] = merged_geom\n",
    "\n",
    "# Create a new GeoDataFrame row\n",
    "new_gdf_row = gpd.GeoDataFrame([new_row_data], crs=cmnd.crs)\n",
    "\n",
    "new_gdf_row\n",
    "# Concatenate the new row with the original GeoDataFrame and remove the original \"Nghĩa Phúc\" and \"Nghĩa Thắng\"\n",
    "cgdf = pd.concat([cmnd, new_gdf_row], ignore_index=True)\n",
    "\n",
    "cgdf = cgdf[cgdf[\"diaDanh\"] != \"Nghĩa Phúc\"]\n",
    "cgdf = cgdf[cgdf[\"diaDanh\"] != \"Nghĩa Thắng\"]"
   ]
  },
  {
   "cell_type": "code",
   "execution_count": 5,
   "metadata": {},
   "outputs": [],
   "source": [
    "hai_an_row = cmnd[cmnd[\"diaDanh\"] == \"Hải An\"].copy().iloc[0]\n",
    "hai_toan_geom = cmnd[cmnd[\"diaDanh\"] == \"Hải Toàn\"].geometry.iloc[0]\n",
    "\n",
    "# Merge the geometries\n",
    "merged_geom = unary_union([hai_an_row.geometry, hai_toan_geom])\n",
    "\n",
    "# Prepare a new row as a dictionary, skipping 'geometry'\n",
    "new_row_data = {\n",
    "    column: hai_an_row[column]\n",
    "    for column in hai_an_row.index\n",
    "    if column not in [\"geometry\"]\n",
    "}\n",
    "\n",
    "# Add the updated 'NAME_3' and 'geometry'\n",
    "new_row_data[\"geometry\"] = merged_geom\n",
    "\n",
    "# Create a new GeoDataFrame row\n",
    "new_gdf_row = gpd.GeoDataFrame([new_row_data], crs=cgdf.crs)\n",
    "cgdf = cgdf[cgdf[\"diaDanh\"] != \"Hải An\"]\n",
    "\n",
    "# Concatenate the new row with the original GeoDataFrame and remove the original \n",
    "cgdf = pd.concat([cgdf, new_gdf_row], ignore_index=True)\n",
    "\n",
    "cgdf = cgdf[cgdf[\"diaDanh\"] != \"Hải Toàn\"]\n",
    "#"
   ]
  },
  {
   "cell_type": "code",
   "execution_count": 6,
   "metadata": {},
   "outputs": [],
   "source": [
    "lam_row = cmnd[cmnd[\"diaDanh\"] == \"Lâm\"].copy().iloc[0]\n",
    "yen_xa_geom = cmnd[cmnd[\"diaDanh\"] == \"Yên Xá\"].geometry.iloc[0]\n",
    "\n",
    "# Merge the geometries\n",
    "merged_geom = unary_union([lam_row.geometry, yen_xa_geom])\n",
    "\n",
    "# Prepare a new row as a dictionary, skipping 'geometry'\n",
    "new_row_data = {\n",
    "    column: lam_row[column]\n",
    "    for column in lam_row.index\n",
    "    if column not in [\"geometry\"]\n",
    "}\n",
    "\n",
    "# Add the updated  'geometry'\n",
    "new_row_data[\"geometry\"] = merged_geom\n",
    "\n",
    "# Create a new GeoDataFrame row\n",
    "new_gdf_row = gpd.GeoDataFrame([new_row_data], crs=cgdf.crs)\n",
    "cgdf = cgdf[cgdf[\"diaDanh\"] != \"Lâm\"]\n",
    "\n",
    "# Concatenate the new row with the original GeoDataFrame and remove the original \n",
    "cgdf = pd.concat([cgdf, new_gdf_row], ignore_index=True)\n",
    "\n",
    "cgdf = cgdf[cgdf[\"diaDanh\"] != \"Yên Xá\"]"
   ]
  },
  {
   "cell_type": "code",
   "execution_count": 8,
   "metadata": {},
   "outputs": [
    {
     "data": {
      "text/html": [
       "<div>\n",
       "<style scoped>\n",
       "    .dataframe tbody tr th:only-of-type {\n",
       "        vertical-align: middle;\n",
       "    }\n",
       "\n",
       "    .dataframe tbody tr th {\n",
       "        vertical-align: top;\n",
       "    }\n",
       "\n",
       "    .dataframe thead th {\n",
       "        text-align: right;\n",
       "    }\n",
       "</style>\n",
       "<table border=\"1\" class=\"dataframe\">\n",
       "  <thead>\n",
       "    <tr style=\"text-align: right;\">\n",
       "      <th></th>\n",
       "      <th>OBJECTID</th>\n",
       "      <th>maDonViHan</th>\n",
       "      <th>danhTuChun</th>\n",
       "      <th>diaDanh</th>\n",
       "      <th>Shape_Leng</th>\n",
       "      <th>Shape_Area</th>\n",
       "      <th>MaTinh</th>\n",
       "      <th>TenTinh</th>\n",
       "      <th>MaHuyen</th>\n",
       "      <th>TenHuyen</th>\n",
       "      <th>geometry</th>\n",
       "    </tr>\n",
       "  </thead>\n",
       "  <tbody>\n",
       "    <tr>\n",
       "      <th>144</th>\n",
       "      <td>130</td>\n",
       "      <td>14077</td>\n",
       "      <td>Xã</td>\n",
       "      <td>Trực Phú</td>\n",
       "      <td>15898.566951</td>\n",
       "      <td>7.415665e+06</td>\n",
       "      <td>36</td>\n",
       "      <td>Tỉnh Nam Định</td>\n",
       "      <td>363</td>\n",
       "      <td>Huyện Trực Ninh</td>\n",
       "      <td>POLYGON ((106.20644 20.21156, 106.20658 20.211...</td>\n",
       "    </tr>\n",
       "  </tbody>\n",
       "</table>\n",
       "</div>"
      ],
      "text/plain": [
       "     OBJECTID maDonViHan danhTuChun   diaDanh    Shape_Leng    Shape_Area  \\\n",
       "144       130      14077         Xã  Trực Phú  15898.566951  7.415665e+06   \n",
       "\n",
       "    MaTinh        TenTinh MaHuyen         TenHuyen  \\\n",
       "144     36  Tỉnh Nam Định     363  Huyện Trực Ninh   \n",
       "\n",
       "                                              geometry  \n",
       "144  POLYGON ((106.20644 20.21156, 106.20658 20.211...  "
      ]
     },
     "execution_count": 8,
     "metadata": {},
     "output_type": "execute_result"
    }
   ],
   "source": [
    "cgdf[cgdf['diaDanh'] == 'Trực Phú']"
   ]
  },
  {
   "cell_type": "code",
   "execution_count": 9,
   "metadata": {},
   "outputs": [],
   "source": [
    "cgdf.loc[cgdf['diaDanh'] == 'Trực Phú', ['diaDanh', 'danhTuChun']] = ['Ninh Cường', 'Thị trấn']"
   ]
  },
  {
   "cell_type": "code",
   "execution_count": 13,
   "metadata": {},
   "outputs": [],
   "source": [
    "cgdf.to_file('data/map/base/commune.json', driver='GeoJSON')"
   ]
  }
 ],
 "metadata": {
  "kernelspec": {
   "display_name": "sp",
   "language": "python",
   "name": "python3"
  },
  "language_info": {
   "codemirror_mode": {
    "name": "ipython",
    "version": 3
   },
   "file_extension": ".py",
   "mimetype": "text/x-python",
   "name": "python",
   "nbconvert_exporter": "python",
   "pygments_lexer": "ipython3",
   "version": "3.12.2"
  }
 },
 "nbformat": 4,
 "nbformat_minor": 2
}
