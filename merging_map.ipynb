{
 "cells": [
  {
   "cell_type": "code",
   "execution_count": null,
   "metadata": {},
   "outputs": [],
   "source": [
    "import geopandas as gpd\n",
    "import matplotlib.pyplot as plt\n",
    "import matplotlib.ticker as ticker\n",
    "import seaborn as sns\n",
    "import pandas as pd\n",
    "import unidecode\n",
    "import re\n",
    "from mpl_toolkits.axes_grid1.inset_locator import inset_axes\n",
    "from matplotlib.lines import Line2D\n",
    "from matplotlib.patches import Patch\n",
    "from matplotlib.offsetbox import OffsetImage, AnnotationBbox\n",
    "import matplotlib.image as image\n",
    "sns.set_style(\"whitegrid\")"
   ]
  },
  {
   "cell_type": "markdown",
   "metadata": {},
   "source": [
    "## Load GEOJSON FILE"
   ]
  },
  {
   "cell_type": "code",
   "execution_count": null,
   "metadata": {},
   "outputs": [],
   "source": [
    "cpath = 'data/namdinh/merge_commune.json'\n",
    "cmap = gpd.read_file(cpath)\n",
    "dpath = 'data/map/namdinh/NamDinh_Huyen.shp'\n",
    "dmap = gpd.read_file(dpath)"
   ]
  },
  {
   "cell_type": "code",
   "execution_count": null,
   "metadata": {},
   "outputs": [],
   "source": [
    "dmap.to_file('data/map/base/district.json', driver='GeoJSON')"
   ]
  },
  {
   "cell_type": "markdown",
   "metadata": {},
   "source": [
    "## Visualize the map"
   ]
  },
  {
   "cell_type": "code",
   "execution_count": null,
   "metadata": {},
   "outputs": [],
   "source": [
    "# Create a larger figure for better readability\n",
    "fig, ax = plt.subplots(1, 1, figsize=(12, 8))\n",
    "\n",
    "# Plotting communes with boundaries\n",
    "cmap.plot(ax=ax, color='lightblue', edgecolor='black', linewidth=0.8, alpha=0.7)\n",
    "\n",
    "# Plotting districts with boundaries\n",
    "dmap.plot(ax=ax, color='none', edgecolor='red', linewidth=1.5, alpha=0.7)\n",
    "\n",
    "# Enhancing the plot for publication quality\n",
    "ax.set_title('Communes and Districts in Nam Dinh, Vietnam', fontsize=16, fontweight='bold')\n",
    "ax.tick_params(axis='both', which='major', labelsize=12)\n",
    "ax.xaxis.set_major_locator(ticker.MaxNLocator(nbins=5))\n",
    "ax.yaxis.set_major_locator(ticker.MaxNLocator(nbins=5))\n",
    "\n",
    "# Show the plot\n",
    "plt.show()"
   ]
  },
  {
   "cell_type": "markdown",
   "metadata": {},
   "source": [
    "## Merging District"
   ]
  },
  {
   "cell_type": "markdown",
   "metadata": {},
   "source": [
    "### Read Excel file"
   ]
  },
  {
   "cell_type": "code",
   "execution_count": null,
   "metadata": {},
   "outputs": [],
   "source": [
    "dt = pd.read_excel('data/namdinh/nd_huyen.xlsx')\n"
   ]
  },
  {
   "cell_type": "code",
   "execution_count": null,
   "metadata": {},
   "outputs": [],
   "source": [
    "dt = dt.dropna(axis=1, how='all')  # Drop columns with all NaN values\n",
    "dt = dt.dropna(axis=0, how='all')  # Drop rows with all NaN values\n",
    "\n",
    "# Renaming columns based on the actual data structure\n",
    "# The number of column names should match the number of columns in the DataFrame\n",
    "column_names = dt.columns[:len(dt.columns)]  # Adjusting to the correct number of columns\n",
    "dt.columns = column_names\n",
    "dt.columns = ['CODE', 'NAME_2']\n",
    "dt['NAME_2'] = dt['NAME_2'].str.replace('Thành phố', '').str.replace('Huyện','').str.replace(' ','')\n",
    "merged_gdf = dmap.merge(dt, left_on='NAME_2', right_on='NAME_2', how='left')"
   ]
  },
  {
   "cell_type": "markdown",
   "metadata": {},
   "source": [
    "### Visualize the map of district"
   ]
  },
  {
   "cell_type": "code",
   "execution_count": null,
   "metadata": {},
   "outputs": [],
   "source": [
    "merged_gdf.to_file('data/namdinh/merge_district.json', driver='GeoJSON') ## Save to GeoJson"
   ]
  },
  {
   "cell_type": "markdown",
   "metadata": {},
   "source": [
    "## Merging communes"
   ]
  },
  {
   "cell_type": "code",
   "execution_count": null,
   "metadata": {},
   "outputs": [],
   "source": [
    "cm = pd.read_excel('data/namdinh/nd_xa.xlsx')\n",
    "cm = cm.rename(columns={\n",
    "    'Mã QH': 'CODE',\n",
    "    'Phường Xã': 'NAME_3',\n",
    "    'Mã PX': 'cCODE',\n",
    "    'Cấp': 'TYPE_3'\n",
    "})\n",
    "cm['NAME_3'] = cm['NAME_3'].str.replace(' ','').str.replace('Xã','').str.replace('Thịtrấn','').str.replace('Phường','')"
   ]
  },
  {
   "cell_type": "code",
   "execution_count": null,
   "metadata": {},
   "outputs": [],
   "source": [
    "cmap_with_dcode = cmap.merge(dt, on='NAME_2', how='left')"
   ]
  },
  {
   "cell_type": "code",
   "execution_count": null,
   "metadata": {},
   "outputs": [],
   "source": [
    "# def remove_vietnamese_accent(text):\n",
    "#     \"\"\"\n",
    "#     Remove Vietnamese accents from a string.\n",
    "#     :param text: String containing Vietnamese text.\n",
    "#     :return: String with Vietnamese accents removed.\n",
    "#     \"\"\"\n",
    "#     return unidecode.unidecode(text)\n",
    "\n",
    "# def rearrange_string(s):\n",
    "#     match = re.search(r'\\((Phuong)\\)', s)\n",
    "#     if match:\n",
    "#         # Extracting the word inside parentheses and adding it to the beginning of the string\n",
    "#         word = match.group(1)\n",
    "#         new_string = word + re.sub(r'\\(.*?\\)', '', s)\n",
    "#         return new_string\n",
    "#     else:\n",
    "#         return s\n"
   ]
  },
  {
   "cell_type": "code",
   "execution_count": null,
   "metadata": {},
   "outputs": [],
   "source": [
    "# cmap_new = cmap_with_dcode.copy()\n",
    "# cmap_new['CNAME'] = cmap_new.apply(\n",
    "#     lambda row: row['TYPE_3'] +  row['NAME_3'] if row['TYPE_3'] == 'Xã' else row['NAME_3'],\n",
    "#     axis=1 \n",
    "# )\n",
    "# #cmap_new['CNAME'] = cmap_new['CNAME'].str.replace(r'\\(.*?\\)','', regex=True)\n",
    "# # cmap_new['CNAME'] = cmap_new['CNAME'].apply(remove_vietnamese_accent)\n",
    "# cmap_new['CNAME']= cmap_new['CNAME'].apply(rearrange_string)\n"
   ]
  },
  {
   "cell_type": "code",
   "execution_count": null,
   "metadata": {},
   "outputs": [],
   "source": [
    "# cm['CNAME'] = cm['NAME_3'].str.replace(' ','')\n",
    "# cm['CNAME'] = cm.apply(\n",
    "#     lambda row: row['TYPE_3'] +  row['NAME_3'] if row['TYPE_3'] == 'Xã' else row['NAME_3'],\n",
    "#     axis=1\n",
    "# )\n",
    "# cm['CNAME']=cm['CNAME'].apply(remove_vietnamese_accent)"
   ]
  },
  {
   "cell_type": "code",
   "execution_count": null,
   "metadata": {},
   "outputs": [],
   "source": [
    "# cmap_final = cmap_new.merge(cm, on=['CODE','CNAME'], how='left')"
   ]
  },
  {
   "cell_type": "code",
   "execution_count": null,
   "metadata": {},
   "outputs": [],
   "source": [
    "# cmap_final.to_file('data/namdinh/merge_commune.json', driver='GeoJSON') ## Save to GeoJson\n",
    "# cmap_final[cmap_final.duplicated('CNAME')]"
   ]
  },
  {
   "cell_type": "code",
   "execution_count": null,
   "metadata": {},
   "outputs": [],
   "source": [
    "# gdf_proj = cmap_final.to_crs(epsg=32648)\n",
    "# gdf_proj['area'] = gdf_proj.area\n"
   ]
  },
  {
   "cell_type": "code",
   "execution_count": null,
   "metadata": {},
   "outputs": [],
   "source": [
    "# gdf_proj.to_file('data/namdinh/merge_commune_36248.json', driver='GeoJSON') ## Save to GeoJson"
   ]
  },
  {
   "cell_type": "code",
   "execution_count": null,
   "metadata": {},
   "outputs": [],
   "source": [
    "# final_gdf = gdf_proj.to_crs(cmap_final.crs)"
   ]
  },
  {
   "cell_type": "code",
   "execution_count": null,
   "metadata": {},
   "outputs": [],
   "source": [
    "# country = gpd.read_file('data/map/vietnam.json')\n",
    "# country['is_namdinh'] = country['VARNAME_1'] == 'NamDinh'"
   ]
  },
  {
   "cell_type": "code",
   "execution_count": null,
   "metadata": {},
   "outputs": [],
   "source": [
    "# final_gdf"
   ]
  },
  {
   "cell_type": "code",
   "execution_count": null,
   "metadata": {},
   "outputs": [],
   "source": [
    "# # Assuming 'gdf_communes' and 'gdf_districts' are your GeoDataFrames for communes and districts respectively\n",
    "# # And assuming 'gdf' is the GeoDataFrame for the entire country with a column 'is_camau' for Ca Mau province\n",
    "\n",
    "# # Set the background color for both the main and inset maps\n",
    "# background_color = 'white'\n",
    "\n",
    "# # Creating the main district and commune map\n",
    "# fig_district, ax_district = plt.subplots(figsize=(8, 8))\n",
    "# ax_district.set_facecolor(background_color)\n",
    "\n",
    "# # Plotting communes with sky blue fill and red edges\n",
    "# final_gdf.plot(ax=ax_district, color='skyblue', edgecolor='red', linewidth=0.25)\n",
    "\n",
    "# # Plotting district boundaries in black\n",
    "# merged_gdf.plot(ax=ax_district, color='none', edgecolor='black', linewidth=0.5, alpha=0.7)\n",
    "\n",
    "# # Creating the inset map\n",
    "# inset_ax = inset_axes(ax_district, width=\"35%\", height=\"35%\", loc=4)  # Bottom right corner\n",
    "# inset_ax.patch.set_facecolor(background_color)\n",
    "# country.plot(ax=inset_ax, color=background_color, edgecolor='black', linewidth=0.5)\n",
    "# country[country['is_namdinh']].plot(ax=inset_ax, color='skyblue', edgecolor='black', linewidth=0.5)\n",
    "# # centroids.plot(ax=ax_district, marker='o', color='red', markersize=5)\n",
    "# inset_ax.set_xticks([])\n",
    "# inset_ax.set_yticks([])\n",
    "\n",
    "# for spine in ax_district.spines.values():\n",
    "#     spine.set_linewidth(1)  # Making the border lines solid\n",
    "#     spine.set_edgecolor('black')  # Setting the border color to black\n",
    "\n",
    "# for spine in inset_ax.spines.values():\n",
    "#     spine.set_visible(True)  \n",
    "\n",
    "# # Removing gridlines\n",
    "# ax_district.grid(False)\n",
    "# inset_ax.grid(False)\n",
    "\n",
    "# # Custom legend for the map with reduced font size\n",
    "# legend_elements = [\n",
    "#     Patch(facecolor='skyblue', edgecolor='red', label='Communes'),\n",
    "#     Line2D([0], [0], color='black', linewidth=0.5, linestyle='-', label='District boundaries')\n",
    "# ]\n",
    "\n",
    "# # Adding the custom legend to the plot with a reduced font size\n",
    "# ax_district.legend(handles=legend_elements, loc='upper left', fontsize=8)\n",
    "# ax_district.ticklabel_format(style='plain', axis='y', useOffset=False)\n",
    "\n",
    "# arrow_img = image.imread('docs/arrow.png')\n",
    "# # Adding the arrow to the bottom left\n",
    "# arrow_position = (0.08, 0.06)  # Adjust as needed\n",
    "# arrowbox = OffsetImage(arrow_img, zoom=0.05)\n",
    "# ab = AnnotationBbox(arrowbox, arrow_position, xycoords='axes fraction', frameon=False)\n",
    "# ax_district.add_artist(ab)\n",
    "# for x, y, label in zip(final_gdf[final_gdf['NAME_2'] == 'NamĐịnh'].geometry.centroid.x, \n",
    "#                        final_gdf[final_gdf['NAME_2'] == 'NamĐịnh'].geometry.centroid.y, \n",
    "#                        final_gdf[final_gdf['NAME_2'] == 'NamĐịnh']['NAME_3_x']):\n",
    "#     ax_district.annotate(label, xy=(x, y), xytext=(3, 3), textcoords=\"offset points\", fontsize=8)\n",
    "# #plt.savefig('output_plot.png', dpi=300, bbox_inches='tight')\n",
    "\n",
    "# plt.show()"
   ]
  }
 ],
 "metadata": {
  "kernelspec": {
   "display_name": "sp",
   "language": "python",
   "name": "python3"
  },
  "language_info": {
   "codemirror_mode": {
    "name": "ipython",
    "version": 3
   },
   "file_extension": ".py",
   "mimetype": "text/x-python",
   "name": "python",
   "nbconvert_exporter": "python",
   "pygments_lexer": "ipython3",
   "version": "3.12.2"
  }
 },
 "nbformat": 4,
 "nbformat_minor": 2
}
