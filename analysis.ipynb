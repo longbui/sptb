{
 "cells": [
  {
   "cell_type": "code",
   "execution_count": null,
   "metadata": {},
   "outputs": [],
   "source": [
    "import geopandas as gpd\n",
    "import matplotlib.pyplot as plt\n",
    "import matplotlib.ticker as ticker\n",
    "import matplotlib.image as image\n",
    "import seaborn as sns\n",
    "import pandas as pd\n",
    "from mpl_toolkits.axes_grid1.inset_locator import inset_axes\n",
    "from matplotlib.lines import Line2D\n",
    "from matplotlib.patches import Patch\n",
    "from matplotlib.offsetbox import OffsetImage, AnnotationBbox\n",
    "from libpysal.weights import Queen\n",
    "from esda.moran import Moran, Moran_Local\n",
    "import numpy as np\n",
    "from matplotlib.colors import ListedColormap\n",
    "from splot.esda import lisa_cluster\n",
    "import numpy as np\n",
    "from scipy.interpolate import UnivariateSpline\n",
    "import pymc as pm\n",
    "\n",
    "\n",
    "sns.set_style(\"whitegrid\")"
   ]
  },
  {
   "cell_type": "code",
   "execution_count": null,
   "metadata": {},
   "outputs": [],
   "source": [
    "final = gpd.read_file('data/map/final.json')\n",
    "district = gpd.read_file('data/map/district.json')\n",
    "country = gpd.read_file('data/map/vietnam.json')"
   ]
  },
  {
   "cell_type": "code",
   "execution_count": null,
   "metadata": {},
   "outputs": [],
   "source": [
    "final = final.to_crs(epsg=32648)\n",
    "district = district.to_crs(epsg=32648)\n",
    "country.to_crs(epsg=32648)\n",
    "final['centroid'] = final.geometry.centroid\n",
    "centroids = final.copy()\n",
    "centroids.geometry = centroids['centroid']"
   ]
  },
  {
   "cell_type": "code",
   "execution_count": null,
   "metadata": {},
   "outputs": [],
   "source": [
    "final = final.to_crs(epsg=4326)\n",
    "district = district.to_crs(epsg=4326)\n",
    "country = country.to_crs(epsg=4326)\n",
    "centroids = centroids.to_crs(epsg=4326)"
   ]
  },
  {
   "cell_type": "code",
   "execution_count": null,
   "metadata": {},
   "outputs": [],
   "source": [
    "country['is_namdinh'] = country['VARNAME_1'] == 'NamDinh'"
   ]
  },
  {
   "cell_type": "code",
   "execution_count": null,
   "metadata": {},
   "outputs": [],
   "source": [
    "# Set the background color for both the main and inset maps\n",
    "background_color = 'white'\n",
    "# Creating the main district and commune map\n",
    "fig_district, ax_district = plt.subplots(figsize=(8, 8))\n",
    "ax_district.set_facecolor(background_color)\n",
    "# Plotting communes with sky blue fill and red edges\n",
    "final.plot(ax=ax_district, color='skyblue', edgecolor='red', linewidth=0.25)\n",
    "# Plotting district boundaries in black\n",
    "district.plot(ax=ax_district, color='none', edgecolor='black', linewidth=0.5, alpha=0.7)\n",
    "# Creating the inset map\n",
    "inset_ax = inset_axes(ax_district, width=\"35%\", height=\"35%\", loc=4)  # Bottom right corner\n",
    "inset_ax.patch.set_facecolor(background_color)\n",
    "country.plot(ax=inset_ax, color=background_color, edgecolor='black', linewidth=0.5)\n",
    "# Zoom in on 'is_namdinh' area\n",
    "namdinh_bounds = country[country['is_namdinh']].total_bounds\n",
    "padding = 5.0  # Padding around the 'is_namdinh' area\n",
    "x_range = namdinh_bounds[2] - namdinh_bounds[0]\n",
    "y_range = namdinh_bounds[3] - namdinh_bounds[1]\n",
    "inset_ax.set_xlim(namdinh_bounds[0] - x_range * padding, namdinh_bounds[2] + x_range * padding)\n",
    "inset_ax.set_ylim(namdinh_bounds[1] - y_range * padding, namdinh_bounds[3] + y_range * padding)\n",
    "\n",
    "country[country['is_namdinh']].plot(ax=inset_ax, color='skyblue', edgecolor='black', linewidth=0.5)\n",
    "# centroids.plot(ax=ax_district, marker='o', color='red', markersize=1)\n",
    "inset_ax.set_xticks([])\n",
    "inset_ax.set_yticks([])\n",
    "\n",
    "for spine in ax_district.spines.values():\n",
    "    spine.set_linewidth(1)  # Making the border lines solid\n",
    "    spine.set_edgecolor('black')  # Setting the border color to black\n",
    "\n",
    "for spine in inset_ax.spines.values():\n",
    "    spine.set_visible(True)  \n",
    "\n",
    "# Removing gridlines\n",
    "ax_district.grid(False)\n",
    "inset_ax.grid(False)\n",
    "\n",
    "# Custom legend for the map with reduced font size\n",
    "legend_elements = [\n",
    "    Patch(facecolor='skyblue', edgecolor='red', label='Communes'),\n",
    "    Line2D([0], [0], color='black', linewidth=0.5, linestyle='-', label='District boundaries')\n",
    "]\n",
    "\n",
    "# Adding the custom legend to the plot with a reduced font size\n",
    "ax_district.legend(handles=legend_elements, loc='upper left', fontsize=8)\n",
    "ax_district.ticklabel_format(style='plain', axis='y', useOffset=False)\n",
    "\n",
    "arrow_img = image.imread('data/images/arrow.png')\n",
    "# Adding the arrow to the bottom left\n",
    "arrow_position = (0.08, 0.06)  # Adjust as needed\n",
    "arrowbox = OffsetImage(arrow_img, zoom=0.05)\n",
    "ab = AnnotationBbox(arrowbox, arrow_position, xycoords='axes fraction', frameon=False)\n",
    "ax_district.add_artist(ab)\n",
    "\n",
    "plt.show()"
   ]
  },
  {
   "cell_type": "code",
   "execution_count": null,
   "metadata": {},
   "outputs": [],
   "source": [
    "cm = gpd.read_file('data/map/commune.json')\n",
    "cm = cm.sort_values(by='OBJECTID', ascending=True)"
   ]
  },
  {
   "cell_type": "code",
   "execution_count": null,
   "metadata": {},
   "outputs": [],
   "source": [
    "# Assuming 'final' is your GeoDataFrame\n",
    "\n",
    "wq = Queen.from_dataframe(cm)\n",
    "# wq.transform='r'\n",
    "\n",
    "# Plot the matrix as a heatmap\n",
    "plt.imshow(wq.full()[0], cmap='binary', interpolation='nearest')\n",
    "plt.title('Queen Contiguity Matrix')\n",
    "plt.colorbar(label='Contiguity')\n",
    "plt.show()"
   ]
  },
  {
   "cell_type": "code",
   "execution_count": null,
   "metadata": {},
   "outputs": [],
   "source": [
    "final_sorted = final.sort_values(by=['OBJECTID', 'year'], ascending=[True, True])"
   ]
  },
  {
   "cell_type": "code",
   "execution_count": null,
   "metadata": {},
   "outputs": [],
   "source": [
    "final_sorted['POP_DENS'] = final_sorted['pop'] / (final_sorted['Shape_Area'] / 1000000)"
   ]
  },
  {
   "cell_type": "code",
   "execution_count": null,
   "metadata": {},
   "outputs": [],
   "source": [
    "final_sorted['total_pop_year'] = final_sorted.groupby('year')['pop'].transform('sum')"
   ]
  },
  {
   "cell_type": "code",
   "execution_count": null,
   "metadata": {},
   "outputs": [],
   "source": [
    "final_sorted['total_case_year'] = final_sorted.groupby('year')['observed'].transform('sum')"
   ]
  },
  {
   "cell_type": "code",
   "execution_count": null,
   "metadata": {},
   "outputs": [],
   "source": [
    "notif_data =  final_sorted.groupby('year').agg(total_case_year=('observed', 'sum'), total_pop_year=('pop', 'sum')).reset_index()"
   ]
  },
  {
   "cell_type": "code",
   "execution_count": null,
   "metadata": {},
   "outputs": [],
   "source": [
    "notif_data['notification_rate'] = (notif_data['total_case_year'] / notif_data['total_pop_year']) * 100000"
   ]
  },
  {
   "cell_type": "code",
   "execution_count": null,
   "metadata": {},
   "outputs": [],
   "source": [
    "notif_data['year'] = notif_data['year'].astype(int)"
   ]
  },
  {
   "cell_type": "code",
   "execution_count": null,
   "metadata": {},
   "outputs": [],
   "source": [
    "notif_data = notif_data.sort_values('year')"
   ]
  },
  {
   "cell_type": "code",
   "execution_count": null,
   "metadata": {},
   "outputs": [],
   "source": [
    "spline = UnivariateSpline(notif_data['year'], notif_data['notification_rate'], s=1)\n",
    "x_range = np.linspace(notif_data['year'].min(), notif_data['year'].max(), 1000)\n",
    "y_smooth = spline(x_range)"
   ]
  },
  {
   "cell_type": "code",
   "execution_count": null,
   "metadata": {},
   "outputs": [],
   "source": [
    "# To plot this, for example:\n",
    "plt.figure(figsize=(7.2, 2.8))\n",
    "plt.plot(notif_data['year'], notif_data['notification_rate'], marker='o', linestyle='-', color='b')\n",
    "plt.xticks(np.arange(2013, 2023, 1))\n",
    "plt.legend()\n",
    "plt.show()"
   ]
  },
  {
   "cell_type": "code",
   "execution_count": null,
   "metadata": {},
   "outputs": [],
   "source": [
    "sum(notif_data['total_case_year'])"
   ]
  },
  {
   "cell_type": "code",
   "execution_count": null,
   "metadata": {},
   "outputs": [],
   "source": [
    "final_sorted['expected'] = final_sorted['observed'] * final_sorted['total_pop_year'] / final_sorted['pop']"
   ]
  },
  {
   "cell_type": "code",
   "execution_count": null,
   "metadata": {},
   "outputs": [],
   "source": [
    "final_sorted['expected'] = final_sorted['pop'] * final_sorted['total_case_year']/ final_sorted['total_pop_year']"
   ]
  },
  {
   "cell_type": "code",
   "execution_count": null,
   "metadata": {},
   "outputs": [],
   "source": [
    "final_sorted['smr'] = final_sorted['observed'] / final_sorted['expected'] "
   ]
  },
  {
   "cell_type": "code",
   "execution_count": null,
   "metadata": {},
   "outputs": [],
   "source": [
    "for year in final_sorted['year'].unique():  # Assuming there's a 'year' column\n",
    "    # Filter data for the year\n",
    "    yearly_data = final_sorted[final_sorted['year'] == year]\n",
    "    \n",
    "    # Calculate global Moran's I\n",
    "    mi = Moran(yearly_data['smr'], wq)\n",
    "    print(f\"Global Moran's I for year {year}: {mi.I}, p-value: {mi.p_sim}\")\n",
    "    \n",
    "    # Calculate local Moran's I\n",
    "    local_mi = Moran_Local(yearly_data['smr'], wq)\n",
    "    local_i = local_mi.Is\n",
    "    "
   ]
  },
  {
   "cell_type": "code",
   "execution_count": null,
   "metadata": {},
   "outputs": [],
   "source": [
    "final_sorted.drop(columns='centroid', inplace=True)"
   ]
  },
  {
   "cell_type": "code",
   "execution_count": null,
   "metadata": {},
   "outputs": [],
   "source": [
    "# final_sorted.to_file('data/map/final_sorted.json', driver='GeoJSON')"
   ]
  },
  {
   "cell_type": "code",
   "execution_count": null,
   "metadata": {},
   "outputs": [],
   "source": [
    "final_sorted['adjusted_observed'] = final_sorted['observed'].apply(lambda x: x + 0.001 if x == 0 else x)"
   ]
  },
  {
   "cell_type": "code",
   "execution_count": null,
   "metadata": {},
   "outputs": [],
   "source": [
    "final_sorted['adjusted_smr'] = final_sorted['adjusted_observed'] / final_sorted['expected']"
   ]
  },
  {
   "cell_type": "code",
   "execution_count": null,
   "metadata": {},
   "outputs": [],
   "source": [
    "years = sorted(final_sorted['year'].unique())\n",
    "num_years = len(years)\n",
    "cols = 2\n",
    "rows = (num_years + cols - 1) // cols  # Ceiling division\n",
    "\n",
    "f, axs = plt.subplots(nrows=rows, ncols=cols, figsize=(7.2, 2.8 * rows), constrained_layout=True)\n",
    "axs = axs.flatten()  # Flatten for easier indexing\n",
    "\n",
    "\n",
    "for index, year in enumerate(years):\n",
    "    yearly_data = final_sorted[final_sorted['year'] == year]\n",
    "    moran = Moran_Local(yearly_data['smr'], wq)\n",
    "    ax = axs[index]\n",
    "    show_legend = True if year == '2013' else False\n",
    "    legend_kwds = {'fontsize': 8, 'title_fontsize': 'large', 'loc': 'upper right'}\n",
    "    lisa_cluster(moran, yearly_data, p=0.05, ax=ax, legend=show_legend, legend_kwds=legend_kwds)\n",
    "    ax.set_title(f\"Year {year}\")\n",
    "\n",
    "plt.show()\n"
   ]
  },
  {
   "cell_type": "code",
   "execution_count": null,
   "metadata": {},
   "outputs": [],
   "source": [
    "bins = [0, 5, 10, float('inf')]\n",
    "labels = ['0-5', '6-10', '>10']\n",
    "# Custom color map for different categories\n",
    "cmap = ListedColormap(['#add8e6', '#ffa500', '#ff0000'])  # Light blue, orange, red\n",
    "\n",
    "f, axs = plt.subplots(nrows=rows, ncols=cols, figsize=(7.2, 2.8 * rows), constrained_layout=True)\n",
    "axs = axs.flatten()  # Flatten for easier indexing\n",
    "\n",
    "for index, year in enumerate(years):\n",
    "    yearly_data = final_sorted[final_sorted['year'] == year].copy()\n",
    "    # Categorize observed values\n",
    "    yearly_data['category'] = pd.cut(yearly_data['observed'],include_lowest=True, bins=bins, labels=labels, right=True)\n",
    "    \n",
    "    # Plotting\n",
    "    ax = axs[index]\n",
    "    show_legend = True if year == '2013' else False\n",
    "    yearly_data.plot(column='category', cmap=cmap, linewidth=0.5, ax=ax, edgecolor='black', legend=show_legend)\n",
    "    ax.set_title(f\"Year {year}\")\n",
    "    for spine in ax.spines.values():\n",
    "        spine.set_visible(False)\n",
    "    ax.set_xticks([])  # Remove x-axis ticks\n",
    "    ax.set_yticks([])  # Remove y-axis ticks\n",
    "\n",
    "# Hide any unused subplots in the grid\n",
    "for idx in range(len(years), len(axs)):\n",
    "    axs[idx].set_visible(False)\n",
    "plt.show()"
   ]
  },
  {
   "cell_type": "code",
   "execution_count": null,
   "metadata": {},
   "outputs": [],
   "source": [
    "bayes_map =gpd.read_file('data/map/merged_output.geojson')"
   ]
  },
  {
   "cell_type": "code",
   "execution_count": null,
   "metadata": {},
   "outputs": [],
   "source": [
    "bayes_map.columns"
   ]
  },
  {
   "cell_type": "code",
   "execution_count": null,
   "metadata": {},
   "outputs": [],
   "source": [
    "years = sorted(bayes_map['year'].unique())\n",
    "num_years = len(years)\n",
    "cols = 2\n",
    "rows = (num_years + cols - 1) // cols  # Ceiling division\n",
    "\n",
    "f, axs = plt.subplots(nrows=rows, ncols=cols, figsize=(7.2, 2.8 * rows), constrained_layout=True)\n",
    "axs = axs.flatten()  # Flatten for easier indexing\n",
    "\n",
    "\n",
    "for index, year in enumerate(years):\n",
    "    yearly_data = bayes_map[bayes_map['year'] == year]\n",
    "    moran = Moran_Local(yearly_data['RR'], wq)\n",
    "    ax = axs[index]\n",
    "    show_legend = True if year == '2013' else False\n",
    "    legend_kwds = {'fontsize': 8, 'title_fontsize': 'large', 'loc': 'upper right'}\n",
    "    lisa_cluster(moran, yearly_data, p=0.05, ax=ax, legend=show_legend, legend_kwds=legend_kwds)\n",
    "    ax.set_title(f\"Year {year}\")\n",
    "\n",
    "plt.show()"
   ]
  }
 ],
 "metadata": {
  "kernelspec": {
   "display_name": "sp",
   "language": "python",
   "name": "python3"
  },
  "language_info": {
   "codemirror_mode": {
    "name": "ipython",
    "version": 3
   },
   "file_extension": ".py",
   "mimetype": "text/x-python",
   "name": "python",
   "nbconvert_exporter": "python",
   "pygments_lexer": "ipython3",
   "version": "3.9.18"
  }
 },
 "nbformat": 4,
 "nbformat_minor": 2
}
