{
 "cells": [
  {
   "cell_type": "code",
   "execution_count": null,
   "metadata": {},
   "outputs": [],
   "source": [
    "import geopandas as gpd\n",
    "import matplotlib.pyplot as plt\n",
    "import matplotlib.ticker as ticker\n",
    "import matplotlib.image as image\n",
    "import seaborn as sns\n",
    "import pandas as pd\n",
    "from mpl_toolkits.axes_grid1.inset_locator import inset_axes\n",
    "from matplotlib.lines import Line2D\n",
    "from matplotlib.patches import Patch\n",
    "from matplotlib.offsetbox import OffsetImage, AnnotationBbox\n",
    "from libpysal.weights import Queen\n",
    "import numpy as np\n",
    "\n",
    "sns.set_style(\"whitegrid\")"
   ]
  },
  {
   "cell_type": "code",
   "execution_count": null,
   "metadata": {},
   "outputs": [],
   "source": [
    "cm = gpd.read_file('data/map/base/commune.json')\n",
    "district = gpd.read_file('data/map/base/district.json')\n",
    "country = gpd.read_file('data/map/base/vietnam.json')"
   ]
  },
  {
   "cell_type": "code",
   "execution_count": null,
   "metadata": {},
   "outputs": [],
   "source": [
    "cm = cm.to_crs(epsg=32648)\n",
    "district = district.to_crs(epsg=32648)\n",
    "country.to_crs(epsg=32648)\n",
    "cm['centroid'] = cm.geometry.centroid\n",
    "centroids = cm.copy()\n",
    "centroids.geometry = centroids['centroid']"
   ]
  },
  {
   "cell_type": "code",
   "execution_count": null,
   "metadata": {},
   "outputs": [],
   "source": [
    "cm = cm.to_crs(epsg=4326)\n",
    "district = district.to_crs(epsg=4326)\n",
    "country = country.to_crs(epsg=4326)\n",
    "centroids = centroids.to_crs(epsg=4326)"
   ]
  },
  {
   "cell_type": "code",
   "execution_count": null,
   "metadata": {},
   "outputs": [],
   "source": [
    "country['is_namdinh'] = country['VARNAME_1'] == 'NamDinh'"
   ]
  },
  {
   "cell_type": "code",
   "execution_count": null,
   "metadata": {},
   "outputs": [],
   "source": [
    "# Set the background color for both the main and inset maps\n",
    "background_color = 'white'\n",
    "# Creating the main district and commune map\n",
    "fig_district, ax_district = plt.subplots(figsize=(8, 8))\n",
    "ax_district.set_facecolor(background_color)\n",
    "# Plotting communes with sky blue fill and red edges\n",
    "cm.plot(ax=ax_district, color='skyblue', edgecolor='red', linewidth=0.25)\n",
    "# Plotting district boundaries in black\n",
    "district.plot(ax=ax_district, color='none', edgecolor='black', linewidth=0.5, alpha=0.7)\n",
    "# Creating the inset map\n",
    "inset_ax = inset_axes(ax_district, width=\"35%\", height=\"35%\", loc=4)  # Bottom right corner\n",
    "inset_ax.patch.set_facecolor(background_color)\n",
    "country.plot(ax=inset_ax, color=background_color, edgecolor='black', linewidth=0.5)\n",
    "# Zoom in on 'is_namdinh' area\n",
    "namdinh_bounds = country[country['is_namdinh']].total_bounds\n",
    "padding = 1.0  # Padding around the 'is_namdinh' area\n",
    "x_range = namdinh_bounds[2] - namdinh_bounds[0]\n",
    "y_range = namdinh_bounds[3] - namdinh_bounds[1]\n",
    "inset_ax.set_xlim(namdinh_bounds[0] - x_range * padding, namdinh_bounds[2] + x_range * padding)\n",
    "inset_ax.set_ylim(namdinh_bounds[1] - y_range * padding, namdinh_bounds[3] + y_range * padding)\n",
    "\n",
    "country[country['is_namdinh']].plot(ax=inset_ax, color='skyblue', edgecolor='black', linewidth=0.5)\n",
    "# centroids.plot(ax=ax_district, marker='o', color='red', markersize=1)\n",
    "inset_ax.set_xticks([])\n",
    "inset_ax.set_yticks([])\n",
    "\n",
    "for spine in ax_district.spines.values():\n",
    "    spine.set_linewidth(1)  # Making the border lines solid\n",
    "    spine.set_edgecolor('black')  # Setting the border color to black\n",
    "\n",
    "for spine in inset_ax.spines.values():\n",
    "    spine.set_visible(True)  \n",
    "\n",
    "# Removing gridlines\n",
    "ax_district.grid(False)\n",
    "inset_ax.grid(False)\n",
    "\n",
    "# Custom legend for the map with reduced font size\n",
    "legend_elements = [\n",
    "    Patch(facecolor='skyblue', edgecolor='red', label='Communes'),\n",
    "    Line2D([0], [0], color='black', linewidth=0.5, linestyle='-', label='District boundaries')\n",
    "]\n",
    "\n",
    "# Adding the custom legend to the plot with a reduced font size\n",
    "ax_district.legend(handles=legend_elements, loc='upper left', fontsize=8)\n",
    "ax_district.ticklabel_format(style='plain', axis='y', useOffset=False)\n",
    "\n",
    "arrow_img = image.imread('data/images/arrow.png')\n",
    "# Adding the arrow to the bottom left\n",
    "arrow_position = (0.08, 0.06)  # Adjust as needed\n",
    "arrowbox = OffsetImage(arrow_img, zoom=0.05)\n",
    "ab = AnnotationBbox(arrowbox, arrow_position, xycoords='axes fraction', frameon=False)\n",
    "ax_district.add_artist(ab)\n",
    "\n",
    "plt.show()"
   ]
  },
  {
   "cell_type": "code",
   "execution_count": null,
   "metadata": {},
   "outputs": [],
   "source": [
    "# Assuming 'cm' is your GeoDataFrame\n",
    "wq = Queen.from_dataframe(cm)\n",
    "\n",
    "# Plot the matrix as a heatmap\n",
    "plt.imshow(wq.full()[0], cmap='binary', interpolation='nearest')\n",
    "plt.title('Queen Contiguity Matrix')\n",
    "plt.colorbar(label='Contiguity')\n",
    "plt.show()"
   ]
  },
  {
   "cell_type": "code",
   "execution_count": null,
   "metadata": {},
   "outputs": [],
   "source": [
    "\n",
    "# Convert the queen contiguity matrix to a numpy array\n",
    "queen_matrix = wq.full()[0]\n",
    "\n",
    "# Normalize the matrix using row-standardization\n",
    "row_sums = queen_matrix.sum(axis=1)\n",
    "normalized_matrix = queen_matrix / row_sums[:, np.newaxis]\n",
    "\n",
    "# Plot the normalized matrix as a heatmap\n",
    "plt.imshow(normalized_matrix, cmap='binary', interpolation='nearest')\n",
    "plt.title('Normalized Queen Contiguity Matrix')\n",
    "plt.colorbar(label='Contiguity (Normalized)')\n",
    "plt.show()"
   ]
  }
 ],
 "metadata": {
  "kernelspec": {
   "display_name": "sp",
   "language": "python",
   "name": "python3"
  },
  "language_info": {
   "codemirror_mode": {
    "name": "ipython",
    "version": 3
   },
   "file_extension": ".py",
   "mimetype": "text/x-python",
   "name": "python",
   "nbconvert_exporter": "python",
   "pygments_lexer": "ipython3",
   "version": "3.9.18"
  }
 },
 "nbformat": 4,
 "nbformat_minor": 2
}
