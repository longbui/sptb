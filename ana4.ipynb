{
 "cells": [
  {
   "cell_type": "code",
   "execution_count": null,
   "metadata": {},
   "outputs": [],
   "source": [
    "import pandas as pd\n",
    "import geopandas as gpd\n",
    "from pathlib import Path\n",
    "import matplotlib.pyplot as plt\n",
    "from matplotlib.patches import Patch\n",
    "import matplotlib.gridspec as gridspec\n",
    "import numpy as np\n",
    "from matplotlib.colors import ListedColormap"
   ]
  },
  {
   "cell_type": "code",
   "execution_count": null,
   "metadata": {},
   "outputs": [],
   "source": [
    "BASE_PATH = Path.cwd()\n",
    "DATA_PATH = BASE_PATH /'data'\n",
    "MAP_PATH = DATA_PATH / 'map'\n",
    "CASE_PATH = DATA_PATH / 'case'"
   ]
  },
  {
   "cell_type": "code",
   "execution_count": null,
   "metadata": {},
   "outputs": [],
   "source": [
    "gdf = gpd.read_file(MAP_PATH /'commune_w_case.json')"
   ]
  },
  {
   "cell_type": "code",
   "execution_count": null,
   "metadata": {},
   "outputs": [],
   "source": [
    "bins = [0, 5, 10, np.inf]\n",
    "labels = ['0-5', '6-10', '10+']\n",
    "gdf['observed_binned'] = pd.cut(gdf['observed'], bins=bins, labels=labels, include_lowest=True)\n",
    "years = sorted(gdf['year'].unique())\n"
   ]
  },
  {
   "cell_type": "code",
   "execution_count": null,
   "metadata": {},
   "outputs": [],
   "source": [
    "colors = [\n",
    "    \"blue\",\n",
    "    \"#DAA520\",\n",
    "    \"red\",\n",
    "]  # Simple color names, or use hex codes like ['#0000ff', '#ffff00', '#ff0000']\n",
    "custom_colormap = ListedColormap(colors)\n",
    "\n",
    "# Assuming your GeoDataFrame 'gdf' is prepared\n",
    "years = sorted(gdf[\"year\"].unique())\n",
    "\n",
    "\n",
    "def plot_year_data(year, ax):\n",
    "    # Filter data for the specified year\n",
    "    data_for_year = gdf[gdf[\"year\"] == year]\n",
    "    # Plotting\n",
    "    data_for_year.plot(\n",
    "        column=\"observed_binned\",\n",
    "        ax=ax,\n",
    "        legend=True,\n",
    "        legend_kwds={\n",
    "            \"loc\": \"upper left\",\n",
    "            \"bbox_to_anchor\": (1, 1),\n",
    "            \"frameon\": True,  # Ensure that frame is on\n",
    "            \"edgecolor\": \"black\",  # Solid black border for the legend\n",
    "            \"facecolor\": \"white\",  # Background color of the legend\n",
    "            \"fontsize\": 8,  # Adjust font size\n",
    "            \"title_fontsize\": 10,  # Font size for the legend title (if any)\n",
    "        },\n",
    "        cmap=custom_colormap,\n",
    "        edgecolor=\"black\",  # Black boundaries for each area\n",
    "        linewidth=0.5,  # A colorblind-friendly color map\n",
    "        alpha=0.8,\n",
    "    )\n",
    "    ax.set_title(f\"Year {year}\", fontsize=10)\n",
    "    ax.set_yticks([])\n",
    "    ax.set_xticks([])\n",
    "    ax.set_xticklabels([])\n",
    "    ax.set_yticklabels([])\n",
    "    # Adjusting legend border width manually\n",
    "    \n",
    "    # Modify legend after creation\n",
    "    legend = ax.get_legend()\n",
    "    legend.get_frame().set_linewidth(0.5)\n",
    "\n",
    "    # Setting spines to be visible with a thicker black border\n",
    "    for spine in ax.spines.values():\n",
    "        spine.set_visible(True)\n",
    "        spine.set_linewidth(0.5)\n",
    "        spine.set_edgecolor(\"black\")\n",
    "\n",
    "\n",
    "# Calculate the number of rows needed for the two-column layout\n",
    "n_rows = (len(years) + 1) // 2\n",
    "height_per_row = 3\n",
    "total_height = n_rows * height_per_row\n",
    "\n",
    "fig, axes = plt.subplots(nrows=n_rows, ncols=2, figsize=(8, total_height))\n",
    "axes = axes.flatten()\n",
    "\n",
    "for i, year in enumerate(years):\n",
    "    plot_year_data(year, axes[i])\n",
    "\n",
    "# Hide unused axes if the number of years is odd\n",
    "if len(years) % 2 != 0:\n",
    "    axes[-1].set_visible(False)\n",
    "\n",
    "fig.subplots_adjust(wspace=0.3, hspace=0.3)  # Adjust spacing\n",
    "plt.show()"
   ]
  },
  {
   "cell_type": "code",
   "execution_count": null,
   "metadata": {},
   "outputs": [],
   "source": [
    "plt.savefig('output_figure.pdf', dpi=300, bbox_inches='tight', pad_inches=0.5)  # Adjust pad_inches as needed to include the border"
   ]
  }
 ],
 "metadata": {
  "kernelspec": {
   "display_name": "sp",
   "language": "python",
   "name": "python3"
  },
  "language_info": {
   "codemirror_mode": {
    "name": "ipython",
    "version": 3
   },
   "file_extension": ".py",
   "mimetype": "text/x-python",
   "name": "python",
   "nbconvert_exporter": "python",
   "pygments_lexer": "ipython3",
   "version": "3.9.18"
  }
 },
 "nbformat": 4,
 "nbformat_minor": 2
}
