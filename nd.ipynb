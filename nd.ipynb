{
 "cells": [
  {
   "cell_type": "code",
   "execution_count": null,
   "metadata": {},
   "outputs": [],
   "source": [
    "import geopandas as gpd\n",
    "import matplotlib.pyplot as plt\n",
    "import matplotlib.ticker as ticker\n",
    "import matplotlib.image as image\n",
    "import seaborn as sns\n",
    "import pandas as pd\n",
    "from mpl_toolkits.axes_grid1.inset_locator import inset_axes\n",
    "from matplotlib.lines import Line2D\n",
    "from matplotlib.patches import Patch\n",
    "from matplotlib.offsetbox import OffsetImage, AnnotationBbox\n",
    "from shapely.ops import unary_union\n",
    "import unidecode\n",
    "\n",
    "sns.set_style(\"whitegrid\")"
   ]
  },
  {
   "cell_type": "code",
   "execution_count": null,
   "metadata": {},
   "outputs": [],
   "source": [
    "# vn_cpath = 'data/map/gadm41_VNM_3.json'\n",
    "# vndf = gpd.read_file(vn_cpath)\n",
    "# cmnd = vndf[vndf['NAME_1']=='NamĐịnh']\n",
    "# cmnd.to_file('data/map/nd_cm.json', driver='GeoJSON')\n"
   ]
  },
  {
   "cell_type": "code",
   "execution_count": null,
   "metadata": {},
   "outputs": [],
   "source": [
    "cpath = 'data/map/namdinh/NamDinh_Xa.shp'\n",
    "cmnd = gpd.read_file(cpath)"
   ]
  },
  {
   "cell_type": "markdown",
   "metadata": {},
   "source": [
    "## Merging some area"
   ]
  },
  {
   "cell_type": "code",
   "execution_count": null,
   "metadata": {},
   "outputs": [],
   "source": [
    "# Copy the row for \"Nghĩa Thắng\"\n",
    "nghia_thang_row = cmnd[cmnd[\"diaDanh\"] == \"Nghĩa Thắng\"].copy().iloc[0]\n",
    "nghia_phuc_geom = cmnd[cmnd[\"diaDanh\"] == \"Nghĩa Phúc\"].geometry.iloc[0]\n",
    "\n",
    "# Merge the geometries\n",
    "merged_geom = unary_union([nghia_thang_row.geometry, nghia_phuc_geom])\n",
    "\n",
    "# Prepare a new row as a dictionary, skipping 'NAME_3' and 'geometry'\n",
    "new_row_data = {\n",
    "    column: nghia_thang_row[column]\n",
    "    for column in nghia_thang_row.index\n",
    "    if column not in [\"diaDanh\", \"geometry\"]\n",
    "}\n",
    "\n",
    "# Add the updated 'NAME_3' and 'geometry'\n",
    "new_row_data[\"diaDanh\"] = \"Phúc Thắng\"\n",
    "new_row_data[\"geometry\"] = merged_geom\n",
    "\n",
    "# Create a new GeoDataFrame row\n",
    "new_gdf_row = gpd.GeoDataFrame([new_row_data], crs=cmnd.crs)\n",
    "\n",
    "new_gdf_row\n",
    "# Concatenate the new row with the original GeoDataFrame and remove the original \"Nghĩa Phúc\" and \"Nghĩa Thắng\"\n",
    "cgdf = pd.concat([cmnd, new_gdf_row], ignore_index=True)\n",
    "\n",
    "cgdf = cgdf[cgdf[\"diaDanh\"] != \"Nghĩa Phúc\"]\n",
    "cgdf = cgdf[cgdf[\"diaDanh\"] != \"Nghĩa Thắng\"]"
   ]
  },
  {
   "cell_type": "code",
   "execution_count": null,
   "metadata": {},
   "outputs": [],
   "source": [
    "cgdf"
   ]
  },
  {
   "cell_type": "code",
   "execution_count": null,
   "metadata": {},
   "outputs": [],
   "source": [
    "hai_an_row = cmnd[cmnd[\"diaDanh\"] == \"Hải An\"].copy().iloc[0]\n",
    "hai_toan_geom = cmnd[cmnd[\"diaDanh\"] == \"Hải Toàn\"].geometry.iloc[0]\n",
    "\n",
    "# Merge the geometries\n",
    "merged_geom = unary_union([hai_an_row.geometry, hai_toan_geom])\n",
    "\n",
    "# Prepare a new row as a dictionary, skipping 'geometry'\n",
    "new_row_data = {\n",
    "    column: hai_an_row[column]\n",
    "    for column in hai_an_row.index\n",
    "    if column not in [\"geometry\"]\n",
    "}\n",
    "\n",
    "# Add the updated 'NAME_3' and 'geometry'\n",
    "new_row_data[\"geometry\"] = merged_geom\n",
    "\n",
    "# Create a new GeoDataFrame row\n",
    "new_gdf_row = gpd.GeoDataFrame([new_row_data], crs=cgdf.crs)\n",
    "cgdf = cgdf[cgdf[\"diaDanh\"] != \"Hải An\"]\n",
    "\n",
    "# Concatenate the new row with the original GeoDataFrame and remove the original \n",
    "cgdf = pd.concat([cgdf, new_gdf_row], ignore_index=True)\n",
    "\n",
    "cgdf = cgdf[cgdf[\"diaDanh\"] != \"Hải Toàn\"]\n",
    "#"
   ]
  },
  {
   "cell_type": "code",
   "execution_count": null,
   "metadata": {},
   "outputs": [],
   "source": [
    "lam_row = cmnd[cmnd[\"diaDanh\"] == \"Lâm\"].copy().iloc[0]\n",
    "yen_xa_geom = cmnd[cmnd[\"diaDanh\"] == \"Yên Xá\"].geometry.iloc[0]\n",
    "\n",
    "# Merge the geometries\n",
    "merged_geom = unary_union([lam_row.geometry, yen_xa_geom])\n",
    "\n",
    "# Prepare a new row as a dictionary, skipping 'geometry'\n",
    "new_row_data = {\n",
    "    column: lam_row[column]\n",
    "    for column in lam_row.index\n",
    "    if column not in [\"geometry\"]\n",
    "}\n",
    "\n",
    "# Add the updated  'geometry'\n",
    "new_row_data[\"geometry\"] = merged_geom\n",
    "\n",
    "# Create a new GeoDataFrame row\n",
    "new_gdf_row = gpd.GeoDataFrame([new_row_data], crs=cgdf.crs)\n",
    "cgdf = cgdf[cgdf[\"diaDanh\"] != \"Lâm\"]\n",
    "\n",
    "# Concatenate the new row with the original GeoDataFrame and remove the original \n",
    "cgdf = pd.concat([cgdf, new_gdf_row], ignore_index=True)\n",
    "\n",
    "cgdf = cgdf[cgdf[\"diaDanh\"] != \"Yên Xá\"]"
   ]
  },
  {
   "cell_type": "code",
   "execution_count": null,
   "metadata": {},
   "outputs": [],
   "source": [
    "cgdf[cgdf['diaDanh']== 'Lâm']"
   ]
  },
  {
   "cell_type": "code",
   "execution_count": null,
   "metadata": {},
   "outputs": [],
   "source": [
    "cgdf.to_file('data/namdinh/merge_commune.json', driver='GeoJSON')"
   ]
  }
 ],
 "metadata": {
  "kernelspec": {
   "display_name": "sp",
   "language": "python",
   "name": "python3"
  },
  "language_info": {
   "codemirror_mode": {
    "name": "ipython",
    "version": 3
   },
   "file_extension": ".py",
   "mimetype": "text/x-python",
   "name": "python",
   "nbconvert_exporter": "python",
   "pygments_lexer": "ipython3",
   "version": "3.12.2"
  }
 },
 "nbformat": 4,
 "nbformat_minor": 2
}
