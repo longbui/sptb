{
 "cells": [
  {
   "cell_type": "code",
   "execution_count": null,
   "metadata": {},
   "outputs": [],
   "source": [
    "import pandas as pd\n",
    "import numpy as np"
   ]
  },
  {
   "cell_type": "code",
   "execution_count": null,
   "metadata": {},
   "outputs": [],
   "source": [
    "# Load the 4th sheet\n",
    "df_sheet4 = pd.read_csv('data/poor.csv')\n",
    "\n",
    "# Display the first few rows of the dataframe from the 4th sheet to understand its structure\n",
    "df_sheet4_renamed = df_sheet4.rename(columns=lambda x: 'y' + str(x) if str(x).isdigit() else x)\n",
    "\n",
    "# Extract the years 2016 to 2021 for slope calculation\n",
    "years_columns_renamed = ['y' + str(year) for year in range(2015, 2022)]\n",
    "years_2015_to_2021 = df_sheet4_renamed[years_columns_renamed]\n",
    "\n",
    "# Calculate slopes for each location\n",
    "slopes = []\n",
    "year_nums = np.arange(2015, 2022)\n",
    "for index, row in years_2015_to_2021.iterrows():\n",
    "    slope, intercept = np.polyfit(year_nums, row, 1)\n",
    "    slope = slope + np.random.uniform(-0.05, 0.05)\n",
    "    slopes.append(slope)\n",
    "\n",
    "# Generate extrapolated numbers for 2012 to 2015 based on the slope\n",
    "generated_data = {f'y{year}': [] for year in range(2012, 2015)}\n",
    "for slope in slopes:\n",
    "    for year in range(2012, 2015):\n",
    "        value = years_2015_to_2021.iloc[0]['y2015'] + slope * (year - 2016)\n",
    "        generated_data[f'y{year}'].append(value)\n",
    "\n",
    "# Convert generated data to a DataFrame and round to 2 decimal places\n",
    "generated_df = pd.DataFrame(generated_data).round(2)\n",
    "\n",
    "# Combine generated data with original data from 2016 to 2021\n",
    "full_df = pd.concat([generated_df, years_2015_to_2021], axis=1)\n",
    "\n",
    "# Add back the NAME column\n",
    "full_df['diaDanh'] = df_sheet4_renamed['diaDanh']\n",
    "\n",
    "# Reorder columns to have NAME as the first column\n",
    "full_df = full_df[['diaDanh'] + [col for col in full_df.columns if col != 'diaDanh']]\n",
    "\n",
    "# Round all numeric columns to 2 decimal places\n",
    "full_df_rounded = full_df.copy()\n",
    "full_df_rounded.iloc[:, 1:] = full_df_rounded.iloc[:, 1:].round(2)\n"
   ]
  },
  {
   "cell_type": "code",
   "execution_count": null,
   "metadata": {},
   "outputs": [],
   "source": [
    "full_df_rounded.count()"
   ]
  },
  {
   "cell_type": "code",
   "execution_count": null,
   "metadata": {},
   "outputs": [],
   "source": [
    "pop = pd.read_csv('data/pop.csv')"
   ]
  },
  {
   "cell_type": "code",
   "execution_count": null,
   "metadata": {},
   "outputs": [],
   "source": [
    "melted_df = pd.melt(pop, id_vars=['diaDanh'], var_name='YEAR', value_name='POP')"
   ]
  },
  {
   "cell_type": "code",
   "execution_count": null,
   "metadata": {},
   "outputs": [],
   "source": [
    "melted_df['diaDanh'] = melted_df['diaDanh'].str.replace(' ','')"
   ]
  },
  {
   "cell_type": "code",
   "execution_count": null,
   "metadata": {},
   "outputs": [],
   "source": [
    "melted_df['YEAR'] = melted_df['YEAR'].astype(int)"
   ]
  },
  {
   "cell_type": "code",
   "execution_count": null,
   "metadata": {},
   "outputs": [],
   "source": [
    "melted_poor = pd.melt(full_df_rounded, id_vars=['diaDanh'], var_name='YEAR', value_name='POOOR')\n",
    "\n",
    "# Removing 'y' from 'YEAR' and converting to int\n",
    "melted_poor['YEAR'] = melted_poor['YEAR'].str.replace('y', '').astype(int)\n",
    "\n",
    "melted_poor.head()"
   ]
  },
  {
   "cell_type": "code",
   "execution_count": null,
   "metadata": {},
   "outputs": [],
   "source": [
    "melted_poor['diaDanh'] = melted_poor['diaDanh'].str.replace(' ','')"
   ]
  },
  {
   "cell_type": "code",
   "execution_count": null,
   "metadata": {},
   "outputs": [],
   "source": [
    "melted_poor.count()"
   ]
  },
  {
   "cell_type": "code",
   "execution_count": null,
   "metadata": {},
   "outputs": [],
   "source": [
    "df_merged = pd.merge(melted_df, melted_poor, on=['diaDanh', 'YEAR'])"
   ]
  }
 ],
 "metadata": {
  "kernelspec": {
   "display_name": "sp",
   "language": "python",
   "name": "python3"
  },
  "language_info": {
   "codemirror_mode": {
    "name": "ipython",
    "version": 3
   },
   "file_extension": ".py",
   "mimetype": "text/x-python",
   "name": "python",
   "nbconvert_exporter": "python",
   "pygments_lexer": "ipython3",
   "version": "3.12.2"
  }
 },
 "nbformat": 4,
 "nbformat_minor": 2
}
