{
 "cells": [
  {
   "cell_type": "code",
   "execution_count": null,
   "metadata": {},
   "outputs": [],
   "source": [
    "import pandas as pd\n",
    "excel_path = 'data/map/namdinh/data.xlsx'\n",
    "xls = pd.ExcelFile(excel_path)\n",
    "all_data_with_sheet_name = []\n",
    "\n",
    "# Iterate through each sheet, add a column for 'varname' to store the sheet name, and then append to the list\n",
    "for sheet_name in xls.sheet_names:\n",
    "    df_sheet = pd.read_excel(xls, sheet_name=sheet_name)\n",
    "    # For each sheet, melt and then add the sheet name as 'varname'\n",
    "    df_sheet_melted = df_sheet.melt(id_vars=[\"NAME\"], var_name=\"YEAR\", value_name=\"value\")\n",
    "    df_sheet_melted[\"varname\"] = sheet_name\n",
    "    all_data_with_sheet_name.append(df_sheet_melted)\n",
    "\n",
    "# Concatenate all the melted DataFrames with the sheet name included\n",
    "long_df_with_varname = pd.concat(all_data_with_sheet_name, ignore_index=True)\n",
    "\n",
    "long_df_with_varname"
   ]
  },
  {
   "cell_type": "code",
   "execution_count": null,
   "metadata": {},
   "outputs": [],
   "source": [
    "# Separate the DataFrames based on 'varname' for 'ph' and 'hh' using 'contains'\n",
    "df_ph = long_df_with_varname[long_df_with_varname['varname'].str.contains('ph')].copy()\n",
    "df_hh = long_df_with_varname[long_df_with_varname['varname'].str.contains('hh')].copy()\n",
    "\n",
    "# Perform operations directly on the copy to avoid SettingWithCopyWarning\n",
    "df_ph['YEAR'] = df_ph['YEAR']\n",
    "df_hh['YEAR'] = df_hh['YEAR']\n",
    "\n",
    "# Merge the 'ph' and 'hh' DataFrames on 'NAME' and 'year'\n",
    "df_merged = pd.merge(df_ph, df_hh, on=['NAME', 'YEAR'], suffixes=('_ph', '_hh'))\n",
    "\n",
    "# Calculate the new variable 'ph/hh * 100'\n",
    "df_merged['perph'] = (df_merged['value_ph'] / df_merged['value_hh'])\n",
    "\n",
    "# Create a DataFrame for the new variable\n",
    "df_new_var = df_merged[['NAME', 'YEAR', 'perph']].copy()\n",
    "df_new_var['varname'] = 'perph'\n",
    "\n",
    "# Ensure the original DataFrame is not just a view to avoid the warning\n",
    "long_df_with_varname_filtered = long_df_with_varname[~long_df_with_varname['varname'].str.contains('ph|hh')].copy()\n",
    "\n",
    "# Concatenate the DataFrame with the new variable to the filtered original DataFrame\n",
    "final_df = pd.concat([long_df_with_varname_filtered, df_new_var[['NAME', 'YEAR', 'varname', 'perph']].rename(columns={'perph': 'value'})], ignore_index=True)\n",
    "\n",
    "# Note: Ensure to use '.copy()' when slicing DataFrames to avoid the SettingWithCopyWarning when setting new values.\n"
   ]
  },
  {
   "cell_type": "code",
   "execution_count": null,
   "metadata": {},
   "outputs": [],
   "source": [
    "final_df"
   ]
  },
  {
   "cell_type": "code",
   "execution_count": null,
   "metadata": {},
   "outputs": [],
   "source": [
    "pivot_df = final_df.pivot_table(index=['NAME', 'YEAR'], columns='varname', values='value').reset_index()"
   ]
  },
  {
   "cell_type": "code",
   "execution_count": null,
   "metadata": {},
   "outputs": [],
   "source": [
    "pivot_df"
   ]
  },
  {
   "cell_type": "code",
   "execution_count": null,
   "metadata": {},
   "outputs": [],
   "source": [
    "pivot_df['NAME'] = pivot_df['NAME'].str.replace(' ','').str.replace('Thịtrấn','').str.replace('Phường','')"
   ]
  },
  {
   "cell_type": "code",
   "execution_count": null,
   "metadata": {},
   "outputs": [],
   "source": [
    "pivot_df"
   ]
  }
 ],
 "metadata": {
  "kernelspec": {
   "display_name": "sp",
   "language": "python",
   "name": "python3"
  },
  "language_info": {
   "codemirror_mode": {
    "name": "ipython",
    "version": 3
   },
   "file_extension": ".py",
   "mimetype": "text/x-python",
   "name": "python",
   "nbconvert_exporter": "python",
   "pygments_lexer": "ipython3",
   "version": "3.12.2"
  }
 },
 "nbformat": 4,
 "nbformat_minor": 2
}
