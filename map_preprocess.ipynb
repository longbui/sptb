{
 "cells": [
  {
   "cell_type": "code",
   "execution_count": null,
   "metadata": {},
   "outputs": [],
   "source": [
    "import geopandas as gpd\n",
    "import matplotlib.pyplot as plt\n",
    "import matplotlib.ticker as ticker"
   ]
  },
  {
   "cell_type": "code",
   "execution_count": null,
   "metadata": {},
   "outputs": [],
   "source": [
    "# vn_cpath = 'data/map/gadm41_VNM_3.json'\n",
    "# vn_cm = gpd.read_file(vn_cpath)\n",
    "# cm_cm = vn_cm[vn_cm['NAME_1']=='CàMau']\n",
    "# cm_cm.to_file('data/map/cm_commune.json', driver='GeoJSON')"
   ]
  },
  {
   "cell_type": "code",
   "execution_count": null,
   "metadata": {},
   "outputs": [],
   "source": [
    "vn_dpath = 'data/map/gadm41_VNM_2.json'\n",
    "vn_dt = gpd.read_file(vn_dpath)\n",
    "cm_dt = vn_dt[vn_dt['NAME_1']=='NamĐịnh']\n",
    "cm_dt.to_file('data/map/dt_nd.json', driver='GeoJSON')"
   ]
  },
  {
   "cell_type": "code",
   "execution_count": null,
   "metadata": {},
   "outputs": [],
   "source": [
    "dmap = gpd.read_file('data/map/shp/DGHC_Huyen.shp')"
   ]
  },
  {
   "cell_type": "code",
   "execution_count": null,
   "metadata": {},
   "outputs": [],
   "source": [
    "dmap"
   ]
  },
  {
   "cell_type": "code",
   "execution_count": null,
   "metadata": {},
   "outputs": [],
   "source": [
    "namdinh = dmap[dmap['MaTinh'] =='36']"
   ]
  },
  {
   "cell_type": "code",
   "execution_count": null,
   "metadata": {},
   "outputs": [],
   "source": [
    "fig, ax = plt.subplots(1, 1, figsize=(12, 8))\n",
    "\n",
    "# Plotting communes with boundaries\n",
    "namdinh.plot(ax=ax, color='lightblue', edgecolor='black', linewidth=0.8, alpha=0.7)\n",
    "\n",
    "# Plotting districts with boundaries\n",
    "# dmap.plot(ax=ax, color='none', edgecolor='red', linewidth=1.5, alpha=0.7)\n",
    "\n",
    "# Enhancing the plot for publication quality\n",
    "ax.set_title('Communes and Districts in Nam Dinh, Vietnam', fontsize=16, fontweight='bold')\n",
    "ax.tick_params(axis='both', which='major', labelsize=12)\n",
    "ax.xaxis.set_major_locator(ticker.MaxNLocator(nbins=5))\n",
    "ax.yaxis.set_major_locator(ticker.MaxNLocator(nbins=5))"
   ]
  },
  {
   "cell_type": "code",
   "execution_count": null,
   "metadata": {},
   "outputs": [],
   "source": [
    "namdinh = namdinh.to_crs(epsg=4326)"
   ]
  },
  {
   "cell_type": "code",
   "execution_count": null,
   "metadata": {},
   "outputs": [],
   "source": [
    "namdinh.to_file('data/namdinh/district.json', driver='GeoJSON')"
   ]
  }
 ],
 "metadata": {
  "kernelspec": {
   "display_name": "sp",
   "language": "python",
   "name": "python3"
  },
  "language_info": {
   "codemirror_mode": {
    "name": "ipython",
    "version": 3
   },
   "file_extension": ".py",
   "mimetype": "text/x-python",
   "name": "python",
   "nbconvert_exporter": "python",
   "pygments_lexer": "ipython3",
   "version": "3.12.2"
  }
 },
 "nbformat": 4,
 "nbformat_minor": 2
}
