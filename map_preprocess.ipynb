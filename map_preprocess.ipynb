{
 "cells": [
  {
   "cell_type": "code",
   "execution_count": null,
   "metadata": {},
   "outputs": [],
   "source": [
    "import geopandas as gpd"
   ]
  },
  {
   "cell_type": "code",
   "execution_count": null,
   "metadata": {},
   "outputs": [],
   "source": [
    "vn_cpath = 'data/map/gadm41_VNM_3.json'\n",
    "vn_cm = gpd.read_file(vn_cpath)\n",
    "cm_cm = vn_cm[vn_cm['NAME_1']=='CàMau']\n",
    "cm_cm.to_file('data/map/cm_commune.json', driver='GeoJSON')"
   ]
  },
  {
   "cell_type": "code",
   "execution_count": null,
   "metadata": {},
   "outputs": [],
   "source": [
    "vn_dpath = 'data/map/gadm41_VNM_2.json'\n",
    "vn_dt = gpd.read_file(vn_dpath)\n",
    "cm_dt = vn_dt[vn_dt['NAME_1']=='CàMau']\n",
    "cm_dt.to_file('data/map/cm_district.json', driver='GeoJSON')"
   ]
  }
 ],
 "metadata": {
  "kernelspec": {
   "display_name": "sp",
   "language": "python",
   "name": "python3"
  },
  "language_info": {
   "codemirror_mode": {
    "name": "ipython",
    "version": 3
   },
   "file_extension": ".py",
   "mimetype": "text/x-python",
   "name": "python",
   "nbconvert_exporter": "python",
   "pygments_lexer": "ipython3",
   "version": "3.12.2"
  }
 },
 "nbformat": 4,
 "nbformat_minor": 2
}
