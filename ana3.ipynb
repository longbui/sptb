{
 "cells": [
  {
   "cell_type": "code",
   "execution_count": null,
   "metadata": {},
   "outputs": [],
   "source": [
    "import pandas as pd\n",
    "import geopandas as gpd\n",
    "from pathlib import Path\n",
    "import matplotlib.pyplot as plt"
   ]
  },
  {
   "cell_type": "code",
   "execution_count": null,
   "metadata": {},
   "outputs": [],
   "source": [
    "BASE_PATH = Path.cwd()\n",
    "DATA_PATH = BASE_PATH /'data'\n",
    "MAP_PATH = DATA_PATH / 'map'\n",
    "CASE_PATH = DATA_PATH / 'case'"
   ]
  },
  {
   "cell_type": "code",
   "execution_count": null,
   "metadata": {},
   "outputs": [],
   "source": [
    "case_before_2016 = pd.read_csv(CASE_PATH / 'case_before_2016.csv')"
   ]
  },
  {
   "cell_type": "code",
   "execution_count": null,
   "metadata": {},
   "outputs": [],
   "source": [
    "case_after_2016 = pd.read_csv(CASE_PATH / 'case_after_2016.csv')"
   ]
  },
  {
   "cell_type": "code",
   "execution_count": null,
   "metadata": {},
   "outputs": [],
   "source": [
    "case_before_2016"
   ]
  },
  {
   "cell_type": "code",
   "execution_count": null,
   "metadata": {},
   "outputs": [],
   "source": [
    "cm = gpd.read_file('data/map/cnew.json')"
   ]
  },
  {
   "cell_type": "code",
   "execution_count": null,
   "metadata": {},
   "outputs": [],
   "source": [
    "cm['Addr_Comm'] = cm['danhTuChun'] + ' ' + cm['diaDanh']"
   ]
  },
  {
   "cell_type": "code",
   "execution_count": null,
   "metadata": {},
   "outputs": [],
   "source": [
    "cm['Addr_Comm'] = cm['Addr_Comm'].str.upper()"
   ]
  },
  {
   "cell_type": "code",
   "execution_count": null,
   "metadata": {},
   "outputs": [],
   "source": [
    "comm_name = cm[['OBJECTID', 'Addr_Comm']]"
   ]
  },
  {
   "cell_type": "code",
   "execution_count": null,
   "metadata": {},
   "outputs": [],
   "source": [
    "case_after_2016['Addr_Comm'] = case_after_2016['Addr_Comm'].apply(lambda x: 'XÃ ' + x if 'PHƯỜNG' not in x and 'THỊ TRẤN' not in x else x)\n",
    "case_after_2016['Addr_Comm'] = case_after_2016['Addr_Comm'].str.replace('XÃ XÃ', 'XÃ')"
   ]
  },
  {
   "cell_type": "code",
   "execution_count": null,
   "metadata": {},
   "outputs": [],
   "source": [
    "case_after_2016_m"
   ]
  },
  {
   "cell_type": "code",
   "execution_count": null,
   "metadata": {},
   "outputs": [],
   "source": [
    "case_after_2016_m = pd.merge(comm_name, case_after_2016, on='Addr_Comm', how ='left')"
   ]
  },
  {
   "cell_type": "code",
   "execution_count": null,
   "metadata": {},
   "outputs": [],
   "source": [
    "total_case = pd.merge(case_before_2016, case_after_2016_m, on=['OBJECTID']).fillna(0)"
   ]
  },
  {
   "cell_type": "code",
   "execution_count": null,
   "metadata": {},
   "outputs": [],
   "source": [
    "other_columns = [col for col in total_case.columns if col not in ['OBJECTID', 'Addr_Comm']]\n",
    "\n",
    "# Rearrange columns\n",
    "new_columns_order = ['OBJECTID', 'Addr_Comm'] + other_columns\n",
    "total_case = total_case[new_columns_order]"
   ]
  },
  {
   "cell_type": "code",
   "execution_count": null,
   "metadata": {},
   "outputs": [],
   "source": [
    "#total_case.to_csv(CASE_PATH / 'case_final.csv', encoding='utf-8-sig', index=False)"
   ]
  },
  {
   "cell_type": "code",
   "execution_count": null,
   "metadata": {},
   "outputs": [],
   "source": [
    "long_df = pd.melt(total_case, id_vars=['OBJECTID', 'Addr_Comm'], var_name='year', value_name='observed')"
   ]
  },
  {
   "cell_type": "code",
   "execution_count": null,
   "metadata": {},
   "outputs": [],
   "source": [
    "long_df"
   ]
  },
  {
   "cell_type": "code",
   "execution_count": null,
   "metadata": {},
   "outputs": [],
   "source": [
    "long_cm = pd.merge(cm, long_df, on=['OBJECTID','Addr_Comm'])"
   ]
  },
  {
   "cell_type": "code",
   "execution_count": null,
   "metadata": {},
   "outputs": [],
   "source": [
    "long_cm.to_file(MAP_PATH / 'commune_w_case.json', driver='GeoJSON')"
   ]
  },
  {
   "cell_type": "code",
   "execution_count": null,
   "metadata": {},
   "outputs": [],
   "source": [
    "gdf = long_cm.copy()"
   ]
  },
  {
   "cell_type": "code",
   "execution_count": null,
   "metadata": {},
   "outputs": [],
   "source": [
    "year_data = gdf[gdf['year'] == '2015']"
   ]
  },
  {
   "cell_type": "code",
   "execution_count": null,
   "metadata": {},
   "outputs": [],
   "source": [
    "gdf['year'] = gdf['year'].astype(int)"
   ]
  },
  {
   "cell_type": "code",
   "execution_count": null,
   "metadata": {},
   "outputs": [],
   "source": [
    "gdf['observed'] = gdf['observed'].astype(int)"
   ]
  },
  {
   "cell_type": "code",
   "execution_count": null,
   "metadata": {},
   "outputs": [],
   "source": [
    "# Load GeoJSON file into a GeoDataFrame\n",
    "\n",
    "\n",
    "# Define the bins for categorizing observed values\n",
    "bins = [0, 5, 10, float('inf')]\n",
    "labels = ['0-5', '6-10', '>10']\n",
    "\n",
    "# Create a map for each year\n",
    "years = gdf['year'].unique()\n",
    "\n",
    "# Set up subplot grid\n",
    "num_rows = len(years) // 2 + (len(years) % 2)\n",
    "fig, axs = plt.subplots(num_rows, 2, figsize=(15, 10))\n",
    "\n",
    "# Plot each year's map\n",
    "for i, year in enumerate(years):\n",
    "    row = i // 2\n",
    "    col = i % 2\n",
    "    ax = axs[row, col] if num_rows > 1 else axs[col]\n",
    "    \n",
    "    # Filter data for the current year\n",
    "    year_data = gdf[gdf['year'] == year]\n",
    "    \n",
    "    # Plot the data\n",
    "    year_data.plot(column='observed')\n",
    "    \n",
    "    ax.set_title(f'Year {year}')\n",
    "    ax.set_axis_off()\n",
    "\n",
    "# Show the plot\n",
    "plt.show()\n"
   ]
  },
  {
   "cell_type": "code",
   "execution_count": null,
   "metadata": {},
   "outputs": [],
   "source": []
  }
 ],
 "metadata": {
  "kernelspec": {
   "display_name": "sp",
   "language": "python",
   "name": "python3"
  },
  "language_info": {
   "codemirror_mode": {
    "name": "ipython",
    "version": 3
   },
   "file_extension": ".py",
   "mimetype": "text/x-python",
   "name": "python",
   "nbconvert_exporter": "python",
   "pygments_lexer": "ipython3",
   "version": "3.10.0"
  }
 },
 "nbformat": 4,
 "nbformat_minor": 2
}
